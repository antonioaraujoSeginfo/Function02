{
 "cells": [
  {
   "cell_type": "markdown",
   "id": "cba6746d",
   "metadata": {},
   "source": [
    "# Retornar um valor na Function Python\n",
    "\n",
    "---\n",
    "\n",
    "### Estrutura Básica"
   ]
  },
  {
   "cell_type": "markdown",
   "id": "f4662908",
   "metadata": {},
   "source": [
    "def nome_funcao():<br>return valor_final"
   ]
  },
  {
   "cell_type": "markdown",
   "id": "5e6847c7",
   "metadata": {},
   "source": [
    "+ Exemplo: vamos criar uma função de cadastro de um produto. Essa função deve garantir que o produto cadastrado está em letra menúscula."
   ]
  },
  {
   "cell_type": "code",
   "execution_count": 26,
   "id": "45b148b0",
   "metadata": {},
   "outputs": [],
   "source": [
    "def cadastrar_produto():\n",
    "    produto = input('Digite o nome do produto que deseja cadastra')\n",
    "    produto = produto.casefold()\n",
    "    produto = produto.strip()\n",
    "    return produto"
   ]
  },
  {
   "cell_type": "code",
   "execution_count": 27,
   "id": "fab86c71",
   "metadata": {},
   "outputs": [
    {
     "name": "stdout",
     "output_type": "stream",
     "text": [
      "Digite o nome do produto que deseja cadastraTomate\n",
      "tomate\n"
     ]
    }
   ],
   "source": [
    "produto = cadastrar_produto()\n",
    "\n",
    "print(produto)"
   ]
  }
 ],
 "metadata": {
  "kernelspec": {
   "display_name": "Python 3 (ipykernel)",
   "language": "python",
   "name": "python3"
  },
  "language_info": {
   "codemirror_mode": {
    "name": "ipython",
    "version": 3
   },
   "file_extension": ".py",
   "mimetype": "text/x-python",
   "name": "python",
   "nbconvert_exporter": "python",
   "pygments_lexer": "ipython3",
   "version": "3.9.12"
  }
 },
 "nbformat": 4,
 "nbformat_minor": 5
}
